{
 "cells": [
  {
   "cell_type": "code",
   "execution_count": 1,
   "id": "fed24eab",
   "metadata": {},
   "outputs": [],
   "source": [
    "import pandas as pd\n",
    "import numpy as np\n",
    "import glob\n",
    "import networkx as nx\n",
    "import os\n",
    "import matplotlib.pyplot as plt"
   ]
  },
  {
   "cell_type": "code",
   "execution_count": 2,
   "id": "7213cd72",
   "metadata": {},
   "outputs": [],
   "source": [
    "def load_forex_files_by_day(folder_pattern=\"./Data/forex_intraday_*.csv\"):\n",
    "    files = sorted(glob.glob(folder_pattern))\n",
    "    day_data = {}\n",
    "\n",
    "    for file in files:\n",
    "        df = pd.read_csv(file, parse_dates=[\"timestamp\"])\n",
    "        if df.empty:\n",
    "            continue\n",
    "        date = pd.to_datetime(df[\"timestamp\"].iloc[0]).date()\n",
    "        day_data[date] = df\n",
    "\n",
    "    return day_data\n",
    "\n",
    "all_days_data = load_forex_files_by_day()"
   ]
  },
  {
   "cell_type": "code",
   "execution_count": 3,
   "id": "06656d4d",
   "metadata": {},
   "outputs": [],
   "source": [
    "def build_graphs(df):\n",
    "    df = df[[\"timestamp\", \"pair\", \"close\"]]\n",
    "    df_pivot = df.pivot(index=\"timestamp\", columns=\"pair\", values=\"close\")\n",
    "    df_log = -np.log(df_pivot)\n",
    "\n",
    "    graphs = {}\n",
    "    for timestamp, row in df_log.iterrows():\n",
    "        G = nx.DiGraph()\n",
    "        for pair, weight in row.items():\n",
    "            if pd.notna(weight):\n",
    "                from_currency = pair[:3]\n",
    "                to_currency = pair[3:]\n",
    "                G.add_edge(from_currency, to_currency, weight=weight)\n",
    "        graphs[timestamp] = G\n",
    "    return graphs"
   ]
  },
  {
   "cell_type": "code",
   "execution_count": 5,
   "id": "2b4a278d",
   "metadata": {},
   "outputs": [],
   "source": [
    "def normalize_cycle(cycle):\n",
    "    cycle = cycle[:-1]\n",
    "    min_idx = min(range(len(cycle)), key=lambda i: cycle[i])\n",
    "    normalized = cycle[min_idx:] + cycle[:min_idx]\n",
    "    return tuple(normalized)\n",
    "\n",
    "def find_all_negative_cycles(graph):\n",
    "    all_cycles = set()\n",
    "    cycles_info = []\n",
    "\n",
    "    for source in graph.nodes:\n",
    "        nodes = list(graph.nodes())\n",
    "        distance = {node: float('inf') for node in nodes}\n",
    "        predecessor = {node: None for node in nodes}\n",
    "        distance[source] = 0\n",
    "        # Bellman-Ford algorithm to find shortest paths and detect negative cycles\n",
    "        for _ in range(len(nodes) - 1):\n",
    "            for u, v, data in graph.edges(data=True):\n",
    "                weight = data[\"weight\"]\n",
    "                if distance[u] + weight < distance[v]:\n",
    "                    distance[v] = distance[u] + weight\n",
    "                    predecessor[v] = u\n",
    "        for u, v, data in graph.edges(data=True):\n",
    "            weight = data[\"weight\"]\n",
    "            if distance[u] + weight < distance[v]:\n",
    "                curr = v\n",
    "                for _ in range(len(nodes)):\n",
    "                    curr = predecessor.get(curr)\n",
    "                    if curr is None:\n",
    "                        break\n",
    "                if curr is None:\n",
    "                    continue\n",
    "\n",
    "                cycle = []\n",
    "                visited = set()\n",
    "                start = curr\n",
    "                while True:\n",
    "                    if curr is None or curr in visited:\n",
    "                        break\n",
    "                    visited.add(curr)\n",
    "                    cycle.append(curr)\n",
    "                    curr = predecessor.get(curr)\n",
    "                    if curr == start and len(cycle) > 1:\n",
    "                        cycle.append(curr)\n",
    "                        break\n",
    "\n",
    "                if len(cycle) > 1 and curr == start:\n",
    "                    cycle = cycle[::-1]\n",
    "                    norm = normalize_cycle(cycle)\n",
    "                    if norm not in all_cycles:\n",
    "                        all_cycles.add(norm)\n",
    "                        profit_log = sum(graph[u][v][\"weight\"] for u, v in zip(cycle, cycle[1:]))\n",
    "                        profit = np.exp(-profit_log)\n",
    "                        cycles_info.append({\n",
    "                            \"cycle\": \" → \".join(cycle),\n",
    "                            \"log_sum\": profit_log,\n",
    "                            \"profit_multiplier\": profit\n",
    "                        })\n",
    "    return cycles_info"
   ]
  },
  {
   "cell_type": "code",
   "execution_count": 6,
   "id": "85e0afff",
   "metadata": {},
   "outputs": [
    {
     "name": "stdout",
     "output_type": "stream",
     "text": [
      "Processing 2025-01-01...\n",
      "93 arbitrage cycles saved to Arbitrage_Cycles\\arbitrage_2025-01-01.csv\n",
      "Processing 2025-01-02...\n",
      "1064 arbitrage cycles saved to Arbitrage_Cycles\\arbitrage_2025-01-02.csv\n",
      "Processing 2025-01-03...\n",
      "366 arbitrage cycles saved to Arbitrage_Cycles\\arbitrage_2025-01-03.csv\n",
      "Processing 2025-01-05...\n",
      "9 arbitrage cycles saved to Arbitrage_Cycles\\arbitrage_2025-01-05.csv\n"
     ]
    }
   ],
   "source": [
    "output_folder = \"Arbitrage_Cycles\"\n",
    "os.makedirs(output_folder, exist_ok=True)\n",
    "for date, df in all_days_data.items():\n",
    "    print(f\"Processing {date}...\")\n",
    "    graphs_by_time = build_graphs(df)\n",
    "    day_results = []\n",
    "    for timestamp, G in graphs_by_time.items():\n",
    "        cycles = find_all_negative_cycles(G)\n",
    "        for cycle in cycles:\n",
    "            cycle[\"timestamp\"] = timestamp\n",
    "            cycle[\"date\"] = date\n",
    "            day_results.append(cycle)\n",
    "    df_day = pd.DataFrame(day_results)\n",
    "    out_file = os.path.join(output_folder, f\"arbitrage_{date}.csv\")\n",
    "    df_day.to_csv(out_file, index=False)\n",
    "    print(f\"{len(df_day)} arbitrage cycles saved to {out_file}\")"
   ]
  }
 ],
 "metadata": {
  "kernelspec": {
   "display_name": "ML",
   "language": "python",
   "name": "python3"
  },
  "language_info": {
   "codemirror_mode": {
    "name": "ipython",
    "version": 3
   },
   "file_extension": ".py",
   "mimetype": "text/x-python",
   "name": "python",
   "nbconvert_exporter": "python",
   "pygments_lexer": "ipython3",
   "version": "3.12.4"
  }
 },
 "nbformat": 4,
 "nbformat_minor": 5
}
