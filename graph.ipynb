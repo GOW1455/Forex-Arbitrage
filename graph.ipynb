{
 "cells": [
  {
   "cell_type": "code",
   "execution_count": 15,
   "id": "1b90556b",
   "metadata": {},
   "outputs": [
    {
     "name": "stdout",
     "output_type": "stream",
     "text": [
      "Loading forex data...\n",
      "Loading: forex_intraday_2025-01-01.csv\n",
      "Pivoting data to currency pair matrix...\n",
      "Converting to -log(rates)...\n",
      "Building graph for each timestamp...\n",
      "Built 179 graphs, one per timestamp.\n"
     ]
    }
   ],
   "source": [
    "import pandas as pd\n",
    "import numpy as np\n",
    "import glob\n",
    "import networkx as nx\n",
    "import os\n",
    "\n",
    "def load_forex_data(file_pattern=\"forex_intraday_*.csv\"):\n",
    "    \"\"\"\n",
    "    Loads and concatenates all CSVs matching the given pattern.\n",
    "    \"\"\"\n",
    "    all_files = glob.glob(file_pattern)\n",
    "    df_list = []\n",
    "\n",
    "    for file in sorted(all_files):\n",
    "        print(f\"Loading: {file}\")\n",
    "        df = pd.read_csv(file, parse_dates=[\"timestamp\"])\n",
    "        df_list.append(df)\n",
    "\n",
    "    full_df = pd.concat(df_list, ignore_index=True)\n",
    "    return full_df\n",
    "\n",
    "\n",
    "def pivot_currency_data(df):\n",
    "    \"\"\"\n",
    "    Pivots the forex dataframe to a timestamp-indexed wide format of currency pairs.\n",
    "    \"\"\"\n",
    "    df = df[[\"timestamp\", \"pair\", \"close\"]]\n",
    "    df_pivot = df.pivot(index=\"timestamp\", columns=\"pair\", values=\"close\")\n",
    "    return df_pivot\n",
    "\n",
    "\n",
    "def convert_to_negative_log(df_rates):\n",
    "    \"\"\"\n",
    "    Converts exchange rates to -log(rate) for use in arbitrage detection.\n",
    "    \"\"\"\n",
    "    return -np.log(df_rates)\n",
    "\n",
    "\n",
    "def build_graphs(df_log_rates):\n",
    "    \"\"\"\n",
    "    Builds a directed graph per timestamp using -log exchange rates as edge weights.\n",
    "    \"\"\"\n",
    "    graphs_by_time = {}\n",
    "\n",
    "    for timestamp, row in df_log_rates.iterrows():\n",
    "        G = nx.DiGraph()\n",
    "        for pair, weight in row.items():\n",
    "            if pd.notna(weight):\n",
    "                from_currency = pair[:3]\n",
    "                to_currency = pair[3:]\n",
    "                G.add_edge(from_currency, to_currency, weight=weight)\n",
    "        graphs_by_time[timestamp] = G\n",
    "\n",
    "    return graphs_by_time\n",
    "\n",
    "print(\"Loading forex data...\")\n",
    "df_all = load_forex_data(\"forex_intraday_*.csv\")\n",
    "\n",
    "print(\"Pivoting data to currency pair matrix...\")\n",
    "df_pivot = pivot_currency_data(df_all)\n",
    "\n",
    "print(\"Converting to -log(rates)...\")\n",
    "df_log = convert_to_negative_log(df_pivot)\n",
    "\n",
    "print(\"Building graph for each timestamp...\")\n",
    "graphs_by_time = build_graphs(df_log)\n",
    "\n",
    "print(f\"Built {len(graphs_by_time)} graphs, one per timestamp.\")\n"
   ]
  },
  {
   "cell_type": "code",
   "execution_count": 16,
   "id": "1036ef95",
   "metadata": {},
   "outputs": [
    {
     "name": "stdout",
     "output_type": "stream",
     "text": [
      "Found 93 arbitrage opportunities.\n"
     ]
    },
    {
     "data": {
      "application/vnd.microsoft.datawrangler.viewer.v0+json": {
       "columns": [
        {
         "name": "index",
         "rawType": "int64",
         "type": "integer"
        },
        {
         "name": "cycle",
         "rawType": "object",
         "type": "string"
        },
        {
         "name": "log_sum",
         "rawType": "float64",
         "type": "float"
        },
        {
         "name": "profit_multiplier",
         "rawType": "float64",
         "type": "float"
        },
        {
         "name": "timestamp",
         "rawType": "datetime64[ns]",
         "type": "datetime"
        }
       ],
       "ref": "87a8ab62-4a33-48ca-9031-36b7e10a04cf",
       "rows": [
        [
         "40",
         "JPY → HKD → USD → CAD → SGD → CHF → JPY",
         "-0.0036790097464600574",
         "1.0036857856097583",
         "2025-01-01 21:53:00"
        ],
        [
         "41",
         "SGD → CHF → JPY → USD → CAD → SGD",
         "-0.0036664709682478897",
         "1.0036732006951976",
         "2025-01-01 21:53:00"
        ],
        [
         "45",
         "EUR → CHF → SGD → GBP → JPY → EUR",
         "-0.002918862308514014",
         "1.0029231263347946",
         "2025-01-01 21:57:00"
        ],
        [
         "39",
         "USD → SGD → CHF → JPY → USD",
         "-0.0017161021432401946",
         "1.0017175754892067",
         "2025-01-01 21:53:00"
        ],
        [
         "53",
         "CAD → SGD → USD → CAD",
         "-0.0016607822040075187",
         "1.00166216206655",
         "2025-01-01 22:06:00"
        ],
        [
         "43",
         "CAD → HKD → USD → CAD",
         "-0.0016391441956561947",
         "1.0016404883268113",
         "2025-01-01 21:55:00"
        ],
        [
         "44",
         "HKD → CHF → HKD",
         "-0.0015103474455249177",
         "1.0015114885946663",
         "2025-01-01 21:56:00"
        ],
        [
         "42",
         "CAD → HKD → USD → CAD",
         "-0.0015007289418583758",
         "1.0015018555990687",
         "2025-01-01 21:54:00"
        ],
        [
         "11",
         "JPY → USD → GBP → JPY",
         "-0.0014076045206276033",
         "1.0014085956608607",
         "2025-01-01 21:20:00"
        ],
        [
         "46",
         "HKD → USD → CAD → HKD",
         "-0.0013867042977250277",
         "1.0013876662167107",
         "2025-01-01 21:58:00"
        ],
        [
         "13",
         "JPY → AUD → EUR → GBP → JPY",
         "-0.0012773153202333132",
         "1.0012781314348886",
         "2025-01-01 21:22:00"
        ],
        [
         "36",
         "CAD → HKD → USD → CAD",
         "-0.0011372861374218668",
         "1.0011379330925354",
         "2025-01-01 21:50:00"
        ],
        [
         "38",
         "CAD → HKD → USD → CAD",
         "-0.0010112200317468623",
         "1.0010117314871065",
         "2025-01-01 21:52:00"
        ],
        [
         "12",
         "USD → GBP → JPY → USD",
         "-0.0010020072731283802",
         "1.0010025094501305",
         "2025-01-01 21:21:00"
        ],
        [
         "26",
         "CAD → HKD → USD → CAD",
         "-0.0009952501193851715",
         "1.000995745545129",
         "2025-01-01 21:40:00"
        ],
        [
         "37",
         "CAD → HKD → USD → CAD",
         "-0.0009379611853803094",
         "1.0009384012085372",
         "2025-01-01 21:51:00"
        ],
        [
         "35",
         "USD → CAD → HKD → USD",
         "-0.0008689458690028795",
         "1.0008693235118402",
         "2025-01-01 21:49:00"
        ],
        [
         "47",
         "HKD → USD → CAD → HKD",
         "-0.0008526644295979158",
         "1.0008530280512544",
         "2025-01-01 21:59:00"
        ],
        [
         "0",
         "SGD → AUD → SGD",
         "-0.0007906979886243004",
         "1.0007910106726863",
         "2025-01-01 21:02:00"
        ],
        [
         "15",
         "EUR → JPY → EUR",
         "-0.0007826336623635299",
         "1.0007829399999997",
         "2025-01-01 21:24:00"
        ],
        [
         "34",
         "USD → CAD → HKD → USD",
         "-0.0007694891512418645",
         "1.000769785283971",
         "2025-01-01 21:48:00"
        ],
        [
         "3",
         "SGD → AUD → SGD",
         "-0.0006972604678897598",
         "1.0006975036104777",
         "2025-01-01 21:05:00"
        ],
        [
         "4",
         "AUD → SGD → AUD",
         "-0.0006374536439135992",
         "1.0006376568606659",
         "2025-01-01 21:06:00"
        ],
        [
         "27",
         "CAD → HKD → USD → CAD",
         "-0.0005901892434499456",
         "1.0005903634393893",
         "2025-01-01 21:41:00"
        ],
        [
         "10",
         "JPY → EUR → JPY",
         "-0.000558284130409703",
         "1.00055844",
         "2025-01-01 21:19:00"
        ],
        [
         "5",
         "SGD → AUD → SGD",
         "-0.0005562730860263487",
         "1.0005564278345922",
         "2025-01-01 21:08:00"
        ],
        [
         "50",
         "CAD → HKD → USD → CAD",
         "-0.0005559765666939831",
         "1.0005561311503124",
         "2025-01-01 22:02:00"
        ],
        [
         "16",
         "GBP → JPY → EUR → GBP",
         "-0.0005449876312592083",
         "1.0005451361639999",
         "2025-01-01 21:25:00"
        ],
        [
         "20",
         "CHF → JPY → USD → CHF",
         "-0.0004988720582642242",
         "1.0004989965156248",
         "2025-01-01 21:32:00"
        ],
        [
         "32",
         "USD → CAD → HKD → USD",
         "-0.00047874230679828544",
         "1.000478856922186",
         "2025-01-01 21:46:00"
        ],
        [
         "51",
         "CHF → HKD → JPY → CHF",
         "-0.0004613349829232227",
         "1.0004614414142727",
         "2025-01-01 22:03:00"
        ],
        [
         "33",
         "CAD → HKD → USD → CAD",
         "-0.0004610987573671066",
         "1.0004612050797401",
         "2025-01-01 21:47:00"
        ],
        [
         "29",
         "CAD → HKD → USD → CAD",
         "-0.00045166432630577846",
         "1.000451766341996",
         "2025-01-01 21:43:00"
        ],
        [
         "6",
         "AUD → SGD → AUD",
         "-0.00044586998491402685",
         "1.0004459693997105",
         "2025-01-01 21:09:00"
        ],
        [
         "66",
         "USD → CAD → HKD → USD",
         "-0.00041557515113976873",
         "1.000415661514456",
         "2025-01-01 22:24:00"
        ],
        [
         "14",
         "EUR → JPY → CAD → EUR",
         "-0.00041092079468174614",
         "1.000411005234197",
         "2025-01-01 21:23:00"
        ],
        [
         "1",
         "USD → JPY → USD",
         "-0.0004070547735652852",
         "1.000407137631602",
         "2025-01-01 21:03:00"
        ],
        [
         "64",
         "CAD → HKD → USD → CAD",
         "-0.0003829290894093451",
         "1.0003830024161124",
         "2025-01-01 22:20:00"
        ],
        [
         "8",
         "JPY → EUR → JPY",
         "-0.0003804428538440874",
         "1.000380515231405",
         "2025-01-01 21:13:00"
        ],
        [
         "65",
         "CAD → HKD → USD → CAD",
         "-0.000374051839438283",
         "1.0003741218055509",
         "2025-01-01 22:21:00"
        ],
        [
         "58",
         "USD → CHF → USD",
         "-0.00037318540501325714",
         "1.0003732550473494",
         "2025-01-01 22:13:00"
        ],
        [
         "24",
         "CAD → HKD → SGD → USD → CAD",
         "-0.0003683501983372528",
         "1.000368418047602",
         "2025-01-01 21:38:00"
        ],
        [
         "48",
         "CAD → HKD → USD → CAD",
         "-0.0003650814257432633",
         "1.0003651480760776",
         "2025-01-01 22:00:00"
        ],
        [
         "54",
         "CHF → SGD → CHF",
         "-0.0003612930561880945",
         "1.0003613583303852",
         "2025-01-01 22:07:00"
        ],
        [
         "17",
         "JPY → CAD → USD → GBP → JPY",
         "-0.0003477814120561029",
         "1.000347841895023",
         "2025-01-01 21:26:00"
        ],
        [
         "25",
         "CHF → SGD → CHF",
         "-0.0003265949554676628",
         "1.0003266482934066",
         "2025-01-01 21:39:00"
        ],
        [
         "52",
         "JPY → EUR → JPY",
         "-0.0003199672434659462",
         "1.0003200184384444",
         "2025-01-01 22:04:00"
        ],
        [
         "28",
         "JPY → HKD → EUR → JPY",
         "-0.0002497953378259865",
         "1.0002498265392794",
         "2025-01-01 21:42:00"
        ],
        [
         "18",
         "USD → GBP → JPY → USD",
         "-0.00024182024304636451",
         "1.0002418494839183",
         "2025-01-01 21:29:00"
        ],
        [
         "49",
         "USD → CAD → HKD → JPY → USD",
         "-0.0002299449234475781",
         "1.000229971362808",
         "2025-01-01 22:01:00"
        ]
       ],
       "shape": {
        "columns": 4,
        "rows": 93
       }
      },
      "text/html": [
       "<div>\n",
       "<style scoped>\n",
       "    .dataframe tbody tr th:only-of-type {\n",
       "        vertical-align: middle;\n",
       "    }\n",
       "\n",
       "    .dataframe tbody tr th {\n",
       "        vertical-align: top;\n",
       "    }\n",
       "\n",
       "    .dataframe thead th {\n",
       "        text-align: right;\n",
       "    }\n",
       "</style>\n",
       "<table border=\"1\" class=\"dataframe\">\n",
       "  <thead>\n",
       "    <tr style=\"text-align: right;\">\n",
       "      <th></th>\n",
       "      <th>cycle</th>\n",
       "      <th>log_sum</th>\n",
       "      <th>profit_multiplier</th>\n",
       "      <th>timestamp</th>\n",
       "    </tr>\n",
       "  </thead>\n",
       "  <tbody>\n",
       "    <tr>\n",
       "      <th>40</th>\n",
       "      <td>JPY → HKD → USD → CAD → SGD → CHF → JPY</td>\n",
       "      <td>-3.679010e-03</td>\n",
       "      <td>1.003686</td>\n",
       "      <td>2025-01-01 21:53:00</td>\n",
       "    </tr>\n",
       "    <tr>\n",
       "      <th>41</th>\n",
       "      <td>SGD → CHF → JPY → USD → CAD → SGD</td>\n",
       "      <td>-3.666471e-03</td>\n",
       "      <td>1.003673</td>\n",
       "      <td>2025-01-01 21:53:00</td>\n",
       "    </tr>\n",
       "    <tr>\n",
       "      <th>45</th>\n",
       "      <td>EUR → CHF → SGD → GBP → JPY → EUR</td>\n",
       "      <td>-2.918862e-03</td>\n",
       "      <td>1.002923</td>\n",
       "      <td>2025-01-01 21:57:00</td>\n",
       "    </tr>\n",
       "    <tr>\n",
       "      <th>39</th>\n",
       "      <td>USD → SGD → CHF → JPY → USD</td>\n",
       "      <td>-1.716102e-03</td>\n",
       "      <td>1.001718</td>\n",
       "      <td>2025-01-01 21:53:00</td>\n",
       "    </tr>\n",
       "    <tr>\n",
       "      <th>53</th>\n",
       "      <td>CAD → SGD → USD → CAD</td>\n",
       "      <td>-1.660782e-03</td>\n",
       "      <td>1.001662</td>\n",
       "      <td>2025-01-01 22:06:00</td>\n",
       "    </tr>\n",
       "    <tr>\n",
       "      <th>...</th>\n",
       "      <td>...</td>\n",
       "      <td>...</td>\n",
       "      <td>...</td>\n",
       "      <td>...</td>\n",
       "    </tr>\n",
       "    <tr>\n",
       "      <th>67</th>\n",
       "      <td>HKD → USD → HKD</td>\n",
       "      <td>-1.287076e-05</td>\n",
       "      <td>1.000013</td>\n",
       "      <td>2025-01-01 22:27:00</td>\n",
       "    </tr>\n",
       "    <tr>\n",
       "      <th>19</th>\n",
       "      <td>EUR → GBP → USD → EUR</td>\n",
       "      <td>-8.321665e-06</td>\n",
       "      <td>1.000008</td>\n",
       "      <td>2025-01-01 21:30:00</td>\n",
       "    </tr>\n",
       "    <tr>\n",
       "      <th>80</th>\n",
       "      <td>USD → JPY → USD</td>\n",
       "      <td>-6.357259e-06</td>\n",
       "      <td>1.000006</td>\n",
       "      <td>2025-01-01 23:22:00</td>\n",
       "    </tr>\n",
       "    <tr>\n",
       "      <th>87</th>\n",
       "      <td>JPY → HKD → USD → JPY</td>\n",
       "      <td>-3.001562e-06</td>\n",
       "      <td>1.000003</td>\n",
       "      <td>2025-01-01 23:49:00</td>\n",
       "    </tr>\n",
       "    <tr>\n",
       "      <th>73</th>\n",
       "      <td>USD → HKD → USD</td>\n",
       "      <td>-4.440892e-16</td>\n",
       "      <td>1.000000</td>\n",
       "      <td>2025-01-01 22:44:00</td>\n",
       "    </tr>\n",
       "  </tbody>\n",
       "</table>\n",
       "<p>93 rows × 4 columns</p>\n",
       "</div>"
      ],
      "text/plain": [
       "                                      cycle       log_sum  profit_multiplier  \\\n",
       "40  JPY → HKD → USD → CAD → SGD → CHF → JPY -3.679010e-03           1.003686   \n",
       "41        SGD → CHF → JPY → USD → CAD → SGD -3.666471e-03           1.003673   \n",
       "45        EUR → CHF → SGD → GBP → JPY → EUR -2.918862e-03           1.002923   \n",
       "39              USD → SGD → CHF → JPY → USD -1.716102e-03           1.001718   \n",
       "53                    CAD → SGD → USD → CAD -1.660782e-03           1.001662   \n",
       "..                                      ...           ...                ...   \n",
       "67                          HKD → USD → HKD -1.287076e-05           1.000013   \n",
       "19                    EUR → GBP → USD → EUR -8.321665e-06           1.000008   \n",
       "80                          USD → JPY → USD -6.357259e-06           1.000006   \n",
       "87                    JPY → HKD → USD → JPY -3.001562e-06           1.000003   \n",
       "73                          USD → HKD → USD -4.440892e-16           1.000000   \n",
       "\n",
       "             timestamp  \n",
       "40 2025-01-01 21:53:00  \n",
       "41 2025-01-01 21:53:00  \n",
       "45 2025-01-01 21:57:00  \n",
       "39 2025-01-01 21:53:00  \n",
       "53 2025-01-01 22:06:00  \n",
       "..                 ...  \n",
       "67 2025-01-01 22:27:00  \n",
       "19 2025-01-01 21:30:00  \n",
       "80 2025-01-01 23:22:00  \n",
       "87 2025-01-01 23:49:00  \n",
       "73 2025-01-01 22:44:00  \n",
       "\n",
       "[93 rows x 4 columns]"
      ]
     },
     "execution_count": 16,
     "metadata": {},
     "output_type": "execute_result"
    }
   ],
   "source": [
    "import numpy as np\n",
    "import pandas as pd\n",
    "\n",
    "def normalize_cycle(cycle):\n",
    "    cycle = cycle[:-1]  # Remove duplicate closing node\n",
    "    min_idx = min(range(len(cycle)), key=lambda i: cycle[i])\n",
    "    normalized = cycle[min_idx:] + cycle[:min_idx]\n",
    "    return tuple(normalized)\n",
    "\n",
    "def find_all_negative_cycles(graph):\n",
    "    all_cycles = set()\n",
    "    cycles_info = []\n",
    "\n",
    "    for source in graph.nodes:\n",
    "        nodes = list(graph.nodes())\n",
    "        distance = {node: float('inf') for node in nodes}\n",
    "        predecessor = {node: None for node in nodes}\n",
    "        distance[source] = 0\n",
    "\n",
    "        for _ in range(len(nodes) - 1):\n",
    "            for u, v, data in graph.edges(data=True):\n",
    "                weight = data[\"weight\"]\n",
    "                if distance[u] + weight < distance[v]:\n",
    "                    distance[v] = distance[u] + weight\n",
    "                    predecessor[v] = u\n",
    "\n",
    "        for u, v, data in graph.edges(data=True):\n",
    "            weight = data[\"weight\"]\n",
    "            if distance[u] + weight < distance[v]:\n",
    "                curr = v\n",
    "                for _ in range(len(nodes)):\n",
    "                    curr = predecessor.get(curr)\n",
    "                    if curr is None:\n",
    "                        break\n",
    "                if curr is None:\n",
    "                    continue\n",
    "\n",
    "                cycle = []\n",
    "                visited = set()\n",
    "                start = curr\n",
    "                while True:\n",
    "                    if curr is None or curr in visited:\n",
    "                        break\n",
    "                    visited.add(curr)\n",
    "                    cycle.append(curr)\n",
    "                    curr = predecessor.get(curr)\n",
    "                    if curr == start and len(cycle) > 1:\n",
    "                        cycle.append(curr)\n",
    "                        break\n",
    "\n",
    "                if len(cycle) > 1 and curr == start:\n",
    "                    cycle = cycle[::-1]\n",
    "                    norm = normalize_cycle(cycle)\n",
    "                    if norm not in all_cycles:\n",
    "                        all_cycles.add(norm)\n",
    "                        profit_log = sum(graph[u][v][\"weight\"] for u, v in zip(cycle, cycle[1:]))\n",
    "                        profit = np.exp(-profit_log)\n",
    "                        cycles_info.append({\n",
    "                            \"cycle\": \" → \".join(cycle),\n",
    "                            \"log_sum\": profit_log,\n",
    "                            \"profit_multiplier\": profit\n",
    "                        })\n",
    "\n",
    "    return cycles_info\n",
    "\n",
    "# === Apply to your graphs ===\n",
    "\n",
    "all_results = []\n",
    "\n",
    "for timestamp, G in graphs_by_time.items():\n",
    "    cycle_info_list = find_all_negative_cycles(G)\n",
    "    for cycle_info in cycle_info_list:\n",
    "        cycle_info[\"timestamp\"] = timestamp\n",
    "        all_results.append(cycle_info)\n",
    "\n",
    "df_arbs = pd.DataFrame(all_results)\n",
    "\n",
    "df_arbs.to_csv(\"all_arbitrage_cycles.csv\", index=False)\n",
    "\n",
    "print(f\"Found {len(df_arbs)} arbitrage opportunities.\")\n",
    "df_arbs.sort_values(by=\"profit_multiplier\", ascending=False, inplace=True)\n",
    "df_arbs"
   ]
  }
 ],
 "metadata": {
  "kernelspec": {
   "display_name": "ML",
   "language": "python",
   "name": "python3"
  },
  "language_info": {
   "codemirror_mode": {
    "name": "ipython",
    "version": 3
   },
   "file_extension": ".py",
   "mimetype": "text/x-python",
   "name": "python",
   "nbconvert_exporter": "python",
   "pygments_lexer": "ipython3",
   "version": "3.12.4"
  }
 },
 "nbformat": 4,
 "nbformat_minor": 5
}
